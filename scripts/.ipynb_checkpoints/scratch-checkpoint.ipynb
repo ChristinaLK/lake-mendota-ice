{
 "cells": [
  {
   "cell_type": "code",
   "execution_count": 219,
   "metadata": {},
   "outputs": [],
   "source": [
    "import pandas\n",
    "from datetime import date\n",
    "from datetime import datetime\n",
    "from datetime import timedelta\n",
    "import calendar"
   ]
  },
  {
   "cell_type": "code",
   "execution_count": 148,
   "metadata": {},
   "outputs": [],
   "source": [
    "datafile = \"../data/raw-dates.csv\""
   ]
  },
  {
   "cell_type": "code",
   "execution_count": 244,
   "metadata": {},
   "outputs": [],
   "source": [
    "data = pandas.read_csv(datafile, na_values = '---', \n",
    "                       usecols = [0,1,2], header=0,\n",
    "                       names = [\"WINTER\",\"CLOSED\",\"OPENED\"])\n",
    "data = data[data['CLOSED'].notnull()]\n",
    "data = data[data['OPENED'].notnull()]"
   ]
  },
  {
   "cell_type": "code",
   "execution_count": 245,
   "metadata": {},
   "outputs": [],
   "source": [
    "data[[\"YEAR1\",\"YEAR2\"]] = data['WINTER'].str.split('-', expand = True)"
   ]
  },
  {
   "cell_type": "code",
   "execution_count": 246,
   "metadata": {},
   "outputs": [],
   "source": [
    "for state in [\"CLOSED\",\"OPENED\"]:\n",
    "    data[[state+\"DAY\",state+\"MONSTR\"]] = data[state].str.split('-', expand = True)\n",
    "    def set_year(row):\n",
    "        monthnum = list(calendar.month_abbr).index(row[state+'MONSTR'])\n",
    "        if monthnum > 7:\n",
    "            return row['YEAR1']\n",
    "        else:\n",
    "            return int(row['YEAR1'])+1\n",
    "    data[state+'YEAR'] = data.apply(set_year,axis = 1)\n",
    "    data[state+'DATE'] = data.apply(lambda x: datetime.strptime(str(x[state])+\"-\"+str(x[state+'YEAR']),'%d-%b-%Y'), axis = 1)\n",
    "    data = data.drop([state+\"DAY\",state+\"MONSTR\",state+\"YEAR\"], axis = 1)\n",
    "\n",
    "data = data.drop(['YEAR2'], axis=1)"
   ]
  },
  {
   "cell_type": "code",
   "execution_count": 247,
   "metadata": {},
   "outputs": [],
   "source": [
    "data['DURATION'] = data.apply(lambda x: x['OPENEDDATE'] - x['CLOSEDDATE'], axis =1)"
   ]
  },
  {
   "cell_type": "code",
   "execution_count": 249,
   "metadata": {},
   "outputs": [
    {
     "name": "stdout",
     "output_type": "stream",
     "text": [
      "3 days 00:00:00\n",
      "167 days 00:00:00\n"
     ]
    }
   ],
   "source": [
    "print(data['CLOSEDOFFSET'].min())\n",
    "print(data['OPENEDOFFSET'].max())"
   ]
  },
  {
   "cell_type": "code",
   "execution_count": 251,
   "metadata": {},
   "outputs": [],
   "source": [
    "outfile = '../data/ice-dates.csv'\n",
    "data.to_csv(outfile, index = False)"
   ]
  },
  {
   "cell_type": "code",
   "execution_count": 161,
   "metadata": {},
   "outputs": [],
   "source": [
    "#longdata = data.melt(id_vars = \"WINTER\", var_name='STATE', value_name=\"DAYMONTH\")"
   ]
  },
  {
   "cell_type": "code",
   "execution_count": 162,
   "metadata": {},
   "outputs": [],
   "source": [
    "#longdata[[\"YEAR1\",\"YEAR2\"]] = longdata['WINTER'].str.split('-', expand = True)\n",
    "#longdata[[\"DAY\",\"MONSTR\"]] = longdata['DAYMONTH'].str.split('-', expand = True)"
   ]
  },
  {
   "cell_type": "code",
   "execution_count": 176,
   "metadata": {},
   "outputs": [],
   "source": [
    "#calendar.month_abbr\n",
    "#def set_year(row):\n",
    "#    monthnum = list(calendar.month_abbr).index(row['MONSTR'])\n",
    "#    if monthnum > 7:\n",
    "#        return row['YEAR1']\n",
    "#    else:\n",
    "#        return int(row['YEAR1'])+1\n",
    "#\n",
    "#longdata['YEAR'] = longdata.apply(set_year,axis = 1)\n"
   ]
  },
  {
   "cell_type": "code",
   "execution_count": 179,
   "metadata": {},
   "outputs": [],
   "source": [
    "#longdata['DATE'] = longdata.apply(lambda x: datetime.strptime(str(x['DAYMONTH'])+\"-\"+str(x['YEAR']),'%d-%b-%Y'), axis = 1)"
   ]
  },
  {
   "cell_type": "code",
   "execution_count": 183,
   "metadata": {},
   "outputs": [],
   "source": [
    "#longdata = longdata.drop(['DAYMONTH','YEAR1','YEAR2','DAY','MONSTR','YEAR'],axis = 1)"
   ]
  },
  {
   "cell_type": "code",
   "execution_count": 208,
   "metadata": {},
   "outputs": [],
   "source": [
    "#longdata.pivot_table(index = 'WINTER', columns = 'STATE',values = 'DATE')"
   ]
  },
  {
   "cell_type": "code",
   "execution_count": null,
   "metadata": {},
   "outputs": [],
   "source": []
  }
 ],
 "metadata": {
  "kernelspec": {
   "display_name": "Python 3",
   "language": "python",
   "name": "python3"
  },
  "language_info": {
   "codemirror_mode": {
    "name": "ipython",
    "version": 3
   },
   "file_extension": ".py",
   "mimetype": "text/x-python",
   "name": "python",
   "nbconvert_exporter": "python",
   "pygments_lexer": "ipython3",
   "version": "3.8.3"
  }
 },
 "nbformat": 4,
 "nbformat_minor": 4
}
