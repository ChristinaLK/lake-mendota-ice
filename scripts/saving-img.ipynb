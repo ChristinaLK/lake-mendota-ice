{
 "cells": [
  {
   "cell_type": "code",
   "execution_count": 2,
   "metadata": {},
   "outputs": [],
   "source": [
    "import math\n",
    "import pandas\n",
    "from datetime import datetime\n",
    "import png"
   ]
  },
  {
   "cell_type": "code",
   "execution_count": 3,
   "metadata": {},
   "outputs": [],
   "source": [
    "infile = '../data/ice-dates.csv'\n",
    "\n",
    "data = pandas.read_csv(infile, usecols = [\"YEAR1\",\"CLOSEDDATE\",\"OPENEDDATE\"], \n",
    "                      parse_dates = [\"CLOSEDDATE\",\"OPENEDDATE\"])"
   ]
  },
  {
   "cell_type": "code",
   "execution_count": 4,
   "metadata": {},
   "outputs": [],
   "source": [
    "marker_month = \"11\"\n",
    "marker_day = \"20\"\n",
    "\n",
    "for state in [\"CLOSED\",\"OPENED\"]:\n",
    "    data[state+'OFFSET'] = data.apply(lambda x: x[state+'DATE'] - datetime.strptime(str(x['YEAR1'])+\"-\"+marker_month+\"-\"+marker_day,'%Y-%m-%d'), axis = 1)\n",
    "    data[state+'NORMOFFSET'] = data.apply(lambda x: math.floor(x[state+'OFFSET'].total_seconds() / (60 * 60 * 24) / 3), axis = 1)"
   ]
  },
  {
   "cell_type": "code",
   "execution_count": 5,
   "metadata": {},
   "outputs": [],
   "source": [
    "#data.head(20)"
   ]
  },
  {
   "cell_type": "code",
   "execution_count": 6,
   "metadata": {},
   "outputs": [],
   "source": [
    "start_yr = int(data['YEAR1'].min())\n",
    "end_yr = int(data['YEAR1'].max())"
   ]
  },
  {
   "cell_type": "code",
   "execution_count": 24,
   "metadata": {},
   "outputs": [],
   "source": [
    "height = end_yr - start_yr + 1"
   ]
  },
  {
   "cell_type": "code",
   "execution_count": 25,
   "metadata": {},
   "outputs": [],
   "source": [
    "delta_min = data['CLOSEDNORMOFFSET'].min()\n",
    "delta_max = data['OPENEDNORMOFFSET'].max()"
   ]
  },
  {
   "cell_type": "code",
   "execution_count": 26,
   "metadata": {},
   "outputs": [],
   "source": [
    "width = delta_max - delta_min"
   ]
  },
  {
   "cell_type": "code",
   "execution_count": 27,
   "metadata": {},
   "outputs": [
    {
     "name": "stdout",
     "output_type": "stream",
     "text": [
      "54 165\n"
     ]
    }
   ],
   "source": [
    "print(width, height)"
   ]
  },
  {
   "cell_type": "code",
   "execution_count": 67,
   "metadata": {},
   "outputs": [],
   "source": [
    "bg_color = (0, 0, 225)\n",
    "ice_color = (250, 250, 250)\n",
    "lt_blue = (209, 237, 242)\n",
    "\n",
    "color_toggle = [bg_color, ice_color]"
   ]
  },
  {
   "cell_type": "code",
   "execution_count": 68,
   "metadata": {},
   "outputs": [],
   "source": [
    "years = list(data['YEAR1'].unique())"
   ]
  },
  {
   "cell_type": "code",
   "execution_count": 78,
   "metadata": {},
   "outputs": [
    {
     "data": {
      "text/plain": [
       "165"
      ]
     },
     "execution_count": 78,
     "metadata": {},
     "output_type": "execute_result"
    }
   ],
   "source": [
    "len(years)"
   ]
  },
  {
   "cell_type": "code",
   "execution_count": 81,
   "metadata": {},
   "outputs": [],
   "source": [
    "px = []\n",
    "block_width = 3\n",
    "block_height = 5\n",
    "tmp_index = 5\n",
    "\n",
    "stripe = []\n",
    "for bwid in range(block_width*width):\n",
    "    stripe.extend(lt_blue)\n",
    "\n",
    "for year in years:\n",
    "    change_points = []\n",
    "    for i,row in data[data.YEAR1 == year].iterrows():\n",
    "        for change_types in ['CLOSEDNORMOFFSET','OPENEDNORMOFFSET']:\n",
    "            change_points.append(row[change_types])\n",
    "    change_points.append(width+1)\n",
    "    point_index = 0\n",
    "    current_change_point = change_points[point_index]\n",
    "    color_index = 0\n",
    "    current_color = color_toggle[color_index]\n",
    "    row = []\n",
    "    for date in range(width):\n",
    "        if date >= current_change_point:\n",
    "            point_index = point_index + 1\n",
    "            current_change_point = change_points[point_index]\n",
    "            color_index = (color_index + 1) % 2\n",
    "            current_color = color_toggle[color_index]\n",
    "        for bw in range(block_width):\n",
    "            row.extend(current_color)\n",
    "    for bh in range(block_height):\n",
    "        #print(row)\n",
    "        px.append(row)\n",
    "    for bh in range(block_height):\n",
    "        #print(row)\n",
    "        px.append(stripe)"
   ]
  },
  {
   "cell_type": "code",
   "execution_count": 82,
   "metadata": {},
   "outputs": [],
   "source": [
    "import png\n",
    "f = open('../exports/sample.png', 'wb')\n",
    "w = png.Writer(width*block_width, height*block_height*2, greyscale = False)\n",
    "w.write(f, px)\n",
    "f.close()"
   ]
  },
  {
   "cell_type": "code",
   "execution_count": 64,
   "metadata": {},
   "outputs": [
    {
     "data": {
      "text/plain": [
       "[209, 237, 242, 209, 237, 242, 209, 237, 242, 209, 237, 242]"
      ]
     },
     "execution_count": 64,
     "metadata": {},
     "output_type": "execute_result"
    }
   ],
   "source": [
    "stripe[:12]"
   ]
  },
  {
   "cell_type": "code",
   "execution_count": 67,
   "metadata": {},
   "outputs": [
    {
     "data": {
      "text/html": [
       "<div>\n",
       "<style scoped>\n",
       "    .dataframe tbody tr th:only-of-type {\n",
       "        vertical-align: middle;\n",
       "    }\n",
       "\n",
       "    .dataframe tbody tr th {\n",
       "        vertical-align: top;\n",
       "    }\n",
       "\n",
       "    .dataframe thead th {\n",
       "        text-align: right;\n",
       "    }\n",
       "</style>\n",
       "<table border=\"1\" class=\"dataframe\">\n",
       "  <thead>\n",
       "    <tr style=\"text-align: right;\">\n",
       "      <th></th>\n",
       "      <th>YEAR1</th>\n",
       "      <th>CLOSEDDATE</th>\n",
       "      <th>OPENEDDATE</th>\n",
       "      <th>CLOSEDOFFSET</th>\n",
       "      <th>CLOSEDNORMOFFSET</th>\n",
       "      <th>OPENEDOFFSET</th>\n",
       "      <th>OPENEDNORMOFFSET</th>\n",
       "    </tr>\n",
       "  </thead>\n",
       "  <tbody>\n",
       "    <tr>\n",
       "      <th>0</th>\n",
       "      <td>1855</td>\n",
       "      <td>1855-12-18</td>\n",
       "      <td>1856-04-14</td>\n",
       "      <td>28 days</td>\n",
       "      <td>9</td>\n",
       "      <td>146 days</td>\n",
       "      <td>48</td>\n",
       "    </tr>\n",
       "    <tr>\n",
       "      <th>1</th>\n",
       "      <td>1856</td>\n",
       "      <td>1856-12-06</td>\n",
       "      <td>1857-05-06</td>\n",
       "      <td>16 days</td>\n",
       "      <td>5</td>\n",
       "      <td>167 days</td>\n",
       "      <td>55</td>\n",
       "    </tr>\n",
       "    <tr>\n",
       "      <th>2</th>\n",
       "      <td>1857</td>\n",
       "      <td>1857-11-25</td>\n",
       "      <td>1858-03-26</td>\n",
       "      <td>5 days</td>\n",
       "      <td>1</td>\n",
       "      <td>126 days</td>\n",
       "      <td>42</td>\n",
       "    </tr>\n",
       "    <tr>\n",
       "      <th>3</th>\n",
       "      <td>1858</td>\n",
       "      <td>1858-12-08</td>\n",
       "      <td>1859-03-14</td>\n",
       "      <td>18 days</td>\n",
       "      <td>6</td>\n",
       "      <td>114 days</td>\n",
       "      <td>38</td>\n",
       "    </tr>\n",
       "    <tr>\n",
       "      <th>4</th>\n",
       "      <td>1859</td>\n",
       "      <td>1859-12-07</td>\n",
       "      <td>1860-03-26</td>\n",
       "      <td>17 days</td>\n",
       "      <td>5</td>\n",
       "      <td>127 days</td>\n",
       "      <td>42</td>\n",
       "    </tr>\n",
       "  </tbody>\n",
       "</table>\n",
       "</div>"
      ],
      "text/plain": [
       "   YEAR1 CLOSEDDATE OPENEDDATE CLOSEDOFFSET  CLOSEDNORMOFFSET OPENEDOFFSET  \\\n",
       "0   1855 1855-12-18 1856-04-14      28 days                 9     146 days   \n",
       "1   1856 1856-12-06 1857-05-06      16 days                 5     167 days   \n",
       "2   1857 1857-11-25 1858-03-26       5 days                 1     126 days   \n",
       "3   1858 1858-12-08 1859-03-14      18 days                 6     114 days   \n",
       "4   1859 1859-12-07 1860-03-26      17 days                 5     127 days   \n",
       "\n",
       "   OPENEDNORMOFFSET  \n",
       "0                48  \n",
       "1                55  \n",
       "2                42  \n",
       "3                38  \n",
       "4                42  "
      ]
     },
     "execution_count": 67,
     "metadata": {},
     "output_type": "execute_result"
    }
   ],
   "source": [
    "data.head()"
   ]
  },
  {
   "cell_type": "code",
   "execution_count": null,
   "metadata": {},
   "outputs": [],
   "source": []
  }
 ],
 "metadata": {
  "kernelspec": {
   "display_name": "Python 3",
   "language": "python",
   "name": "python3"
  },
  "language_info": {
   "codemirror_mode": {
    "name": "ipython",
    "version": 3
   },
   "file_extension": ".py",
   "mimetype": "text/x-python",
   "name": "python",
   "nbconvert_exporter": "python",
   "pygments_lexer": "ipython3",
   "version": "3.8.3"
  }
 },
 "nbformat": 4,
 "nbformat_minor": 4
}
